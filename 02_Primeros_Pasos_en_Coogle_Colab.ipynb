{
  "nbformat": 4,
  "nbformat_minor": 0,
  "metadata": {
    "colab": {
      "provenance": [],
      "include_colab_link": true
    },
    "kernelspec": {
      "name": "python3",
      "display_name": "Python 3"
    },
    "language_info": {
      "name": "python"
    }
  },
  "cells": [
    {
      "cell_type": "markdown",
      "metadata": {
        "id": "view-in-github",
        "colab_type": "text"
      },
      "source": [
        "<a href=\"https://colab.research.google.com/github/JbhC/Python-Ciencia-de-Datos/blob/main/02_Primeros_Pasos_en_Coogle_Colab.ipynb\" target=\"_parent\"><img src=\"https://colab.research.google.com/assets/colab-badge.svg\" alt=\"Open In Colab\"/></a>"
      ]
    },
    {
      "cell_type": "code",
      "execution_count": null,
      "metadata": {
        "id": "PWkuilbLs_BD",
        "colab": {
          "base_uri": "https://localhost:8080/"
        },
        "outputId": "5e847301-dc21-437a-d30c-8bbb77f8df10"
      },
      "outputs": [
        {
          "output_type": "stream",
          "name": "stdout",
          "text": [
            "El sueldo de un programador en pesos argentinos es: 443200\n"
          ]
        }
      ],
      "source": [
        "# Forma 1: tomando el valor del dólar de hoy, 14 de julio, fijo.\n",
        "\n",
        "sueldo_programador_dolar = 1600\n",
        "valor_dolar_BNA_hoy = 277\n",
        "\n",
        "sueldo_programador_pesos_argentinos = sueldo_programador_dolar * valor_dolar_BNA_hoy\n",
        "\n",
        "print(f'El sueldo de un programador en pesos argentinos es: {sueldo_programador_pesos_argentinos}')\n"
      ]
    },
    {
      "cell_type": "code",
      "source": [
        "# Forma 2: con la posibilidad de ingresar el valor del dolar del momento\n",
        "\n",
        "sueldo_programador_dolar = 1600\n",
        "\n",
        "dolar_actual = float(input(\"Ingrese valor del dólar actual: \"))\n",
        "\n",
        "sueldo_en_pesos = sueldo_programador_dolar * dolar_actual\n",
        "\n",
        "print(f'El sueldo de un programador en Argentina es: {sueldo_en_pesos} pesos')\n"
      ],
      "metadata": {
        "colab": {
          "base_uri": "https://localhost:8080/"
        },
        "id": "KmKYoO4HLQCF",
        "outputId": "2c0a6307-bb72-4b1b-ce54-00593c286fa4"
      },
      "execution_count": null,
      "outputs": [
        {
          "output_type": "stream",
          "name": "stdout",
          "text": [
            "Ingrese valor del dólar actual: 277\n",
            "El sueldo de un programador en Argentina es: 443200.0 pesos\n"
          ]
        }
      ]
    }
  ]
}